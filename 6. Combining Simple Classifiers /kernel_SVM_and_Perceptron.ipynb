{
 "cells": [
  {
   "cell_type": "markdown",
   "metadata": {},
   "source": [
    "# Experiments with kernel machines"
   ]
  },
  {
   "cell_type": "markdown",
   "metadata": {},
   "source": [
    "In this notebook we will use simple two-dimensional data sets to illustrate the behavior of the support vector machine and the Perceptron, when used with quadratic and RBF kernels."
   ]
  },
  {
   "cell_type": "markdown",
   "metadata": {},
   "source": [
    "## 1. Basic training procedure"
   ]
  },
  {
   "cell_type": "code",
   "execution_count": 1,
   "metadata": {},
   "outputs": [],
   "source": [
    "%matplotlib inline\n",
    "import numpy as np\n",
    "import matplotlib\n",
    "import matplotlib.pyplot as plt\n",
    "from sklearn.svm import SVC\n",
    "matplotlib.rc('xtick', labelsize=14) \n",
    "matplotlib.rc('ytick', labelsize=14)"
   ]
  },
  {
   "cell_type": "markdown",
   "metadata": {},
   "source": [
    "The directory containing this notebook should also contain two-dimensional data files, `data1.txt` through `data5.txt`. These files contain one data point per line, along with a label (either -1 or 1), like:\n",
    "* `3 8 -1` (meaning that point `x=(3,8)` has label `y=-1`)\n",
    "\n",
    "The next procedure, **learn_and_display_SVM**, loads one of these data sets, invokes `sklearn.SVC` to learn a classifier, and then displays the data as well as the boundary. It is invoked as follows:\n",
    "* `learn_and_display_SVM(datafile, kernel_type, C_value, s_value)`\n",
    "\n",
    "where\n",
    "* `datafile` is one of `'data1.txt'` through `'data5.txt'` (or another file in the same format)\n",
    "* `kernel_type` is either `'quadratic'` or `'rbf'`\n",
    "* `C_value` is the setting of the soft-margin parameter `C` (default: 1.0)\n",
    "* `s_value` (for the RBF kernel) is the scaling parameter `s` (default: 1.0)"
   ]
  },
  {
   "cell_type": "code",
   "execution_count": 2,
   "metadata": {},
   "outputs": [],
   "source": [
    "def learn_and_display_SVM(datafile, kernel_type='rbf', C_value=1.0, s_value=1.0):\n",
    "    data = np.loadtxt(datafile)\n",
    "    n,d = data.shape\n",
    "    # Create training set x and labels y\n",
    "    x = data[:,0:2]\n",
    "    y = data[:,2]\n",
    "    # Now train a support vector machine and identify the support vectors\n",
    "    if kernel_type == 'rbf':\n",
    "        clf = SVC(kernel='rbf', C=C_value, gamma=1.0/(s_value*s_value))\n",
    "    if kernel_type == 'quadratic':\n",
    "        clf = SVC(kernel='poly', degree=2, C=C_value, coef0=1.0)\n",
    "    clf.fit(x,y)\n",
    "    sv = np.zeros(n,dtype=bool)\n",
    "    sv[clf.support_] = True\n",
    "    notsv = np.logical_not(sv)\n",
    "    # Determine the x1- and x2- limits of the plot\n",
    "    x1min = min(x[:,0]) - 1\n",
    "    x1max = max(x[:,0]) + 1\n",
    "    x2min = min(x[:,1]) - 1\n",
    "    x2max = max(x[:,1]) + 1\n",
    "    plt.xlim(x1min,x1max)\n",
    "    plt.ylim(x2min,x2max)\n",
    "    # Plot the data points, enlarging those that are support vectors\n",
    "    plt.plot(x[(y==1)*notsv,0], x[(y==1)*notsv,1], 'ro')\n",
    "    plt.plot(x[(y==1)*sv,0], x[(y==1)*sv,1], 'ro', markersize=10)\n",
    "    plt.plot(x[(y==-1)*notsv,0], x[(y==-1)*notsv,1], 'k^')\n",
    "    plt.plot(x[(y==-1)*sv,0], x[(y==-1)*sv,1], 'k^', markersize=10)\n",
    "    # Construct a grid of points and evaluate classifier at each grid points\n",
    "    grid_spacing = 0.05\n",
    "    xx1, xx2 = np.meshgrid(np.arange(x1min, x1max, grid_spacing), np.arange(x2min, x2max, grid_spacing))\n",
    "    grid = np.c_[xx1.ravel(), xx2.ravel()]\n",
    "    Z = clf.decision_function(grid)\n",
    "    # Quantize the values to -1, -0.5, 0, 0.5, 1 for display purposes\n",
    "    for i in range(len(Z)):\n",
    "        Z[i] = min(Z[i],1.0)\n",
    "        Z[i] = max(Z[i],-1.0)\n",
    "        if (Z[i] > 0.0) and (Z[i] < 1.0):\n",
    "            Z[i] = 0.5\n",
    "        if (Z[i] < 0.0) and (Z[i] > -1.0):\n",
    "            Z[i] = -0.5\n",
    "    # Show boundary and margin using a color plot\n",
    "    Z = Z.reshape(xx1.shape)\n",
    "    plt.pcolormesh(xx1, xx2, Z, cmap=plt.cm.PRGn, vmin=-2, vmax=2)\n",
    "    plt.show()"
   ]
  },
  {
   "cell_type": "markdown",
   "metadata": {},
   "source": [
    "## 2. Experiments with the quadratic kernel"
   ]
  },
  {
   "cell_type": "markdown",
   "metadata": {},
   "source": [
    "Let's try out SVM on some examples, starting with the quadratic kernel."
   ]
  },
  {
   "cell_type": "code",
   "execution_count": 3,
   "metadata": {},
   "outputs": [
    {
     "data": {
      "image/png": "[encoded data removed]",
      "text/plain": [
       "<Figure size 432x288 with 1 Axes>"
      ]
     },
     "metadata": {},
     "output_type": "display_data"
    }
   ],
   "source": [
    "learn_and_display_SVM('data1.txt', 'quadratic', 1.0)"
   ]
  },
  {
   "cell_type": "markdown",
   "metadata": {},
   "source": [
    "Also try `data2.txt` through `data5.txt`. Also try changing the value of `C` (the third parameter) to see how that affects the boundary and margin."
   ]
  },
  {
   "cell_type": "code",
   "execution_count": 4,
   "metadata": {},
   "outputs": [
    {
     "data": {
      "image/png": "[encoded data removed]",
      "text/plain": [
       "<Figure size 432x288 with 1 Axes>"
      ]
     },
     "metadata": {},
     "output_type": "display_data"
    }
   ],
   "source": [
    "learn_and_display_SVM('data3.txt', 'quadratic', 10.0)"
   ]
  },
  {
   "cell_type": "markdown",
   "metadata": {},
   "source": [
    "## 3. Experiments with the RBF kernel"
   ]
  },
  {
   "cell_type": "markdown",
   "metadata": {},
   "source": [
    "Now experiment with the RBF kernel, on the same five data sets. This time there are two parameters to play with: `C` and `sigma`."
   ]
  },
  {
   "cell_type": "code",
   "execution_count": 5,
   "metadata": {},
   "outputs": [
    {
     "data": {
      "image/png": "[encoded data removed]",
      "text/plain": [
       "<Figure size 432x288 with 1 Axes>"
      ]
     },
     "metadata": {},
     "output_type": "display_data"
    }
   ],
   "source": [
    "learn_and_display_SVM('data2.txt', 'rbf', 10.0, 10.0)"
   ]
  },
  {
   "cell_type": "code",
   "execution_count": 6,
   "metadata": {},
   "outputs": [
    {
     "data": {
      "image/png": "[encoded data removed]",
      "text/plain": [
       "<Figure size 432x288 with 1 Axes>"
      ]
     },
     "metadata": {},
     "output_type": "display_data"
    }
   ],
   "source": [
    "learn_and_display_SVM('data4.txt', 'rbf', 1.0, 10.0)"
   ]
  },
  {
   "cell_type": "code",
   "execution_count": 7,
   "metadata": {},
   "outputs": [
    {
     "data": {
      "image/png": "[encoded data removed]",
      "text/plain": [
       "<Figure size 432x288 with 1 Axes>"
      ]
     },
     "metadata": {},
     "output_type": "display_data"
    }
   ],
   "source": [
    "learn_and_display_SVM('data5.txt', 'rbf', 10.0, 100.0)"
   ]
  },
  {
   "cell_type": "markdown",
   "metadata": {},
   "source": [
    "## 4. The kernel Perceptron"
   ]
  },
  {
   "cell_type": "markdown",
   "metadata": {},
   "source": [
    "<font color=\"magenta\">**For you to do:**</font> Implement the kernel Perceptron algorithm as specified in lecture. Your algorithm should allow both the quadratic and RBF kernel, and should follow roughly the same signature as the SVM routine above:\n",
    "* `learn_and_display_Perceptron(datafile, kernel_type, s_value)`\n",
    "\n",
    "Recall that the Perceptron algorithm does not always converge; you will need to explicitly check for this."
   ]
  },
  {
   "cell_type": "markdown",
   "metadata": {},
   "source": [
    "#### Method 1 : Similar to theoretical way of writing perceptron formula"
   ]
  },
  {
   "cell_type": "code",
   "execution_count": 8,
   "metadata": {},
   "outputs": [],
   "source": [
    "def w_x(x,y,kernel_type,s_value,z,alpha):\n",
    "    n,d = x.shape\n",
    "    wx=0\n",
    "    for j in range(n):\n",
    "        if kernel_type == 'rbf':\n",
    "            wx+= (alpha[j]*y[j]*np.exp(-np.linalg.norm(x[j]-z)**2 / (s_value**2)))\n",
    "        if kernel_type == 'quadratic':\n",
    "            wx+= (alpha[j]*y[j]*(1 + np.dot(x[j], z)))\n",
    "    return wx\n",
    "\n",
    "def train_perceptron(x,y,s_value,kernel_type,n_iters=100):\n",
    "    n,d = x.shape\n",
    "    alpha = np.zeros((n,))\n",
    "    b=0\n",
    "    done = False\n",
    "    converged = True\n",
    "    iters = 0\n",
    "    np.random.seed(None)\n",
    "    while not(done):\n",
    "        done = True\n",
    "        I = np.random.permutation(n)\n",
    "        for p in I:\n",
    "            if y[p]*(w_x(x,y,kernel_type,s_value,x[p],alpha)+b) <= 0:\n",
    "                alpha[p] = alpha[p] + 1.0\n",
    "                b = b + y[p]\n",
    "                done = False\n",
    "        iters = iters + 1\n",
    "        if iters > n_iters:\n",
    "            done = True\n",
    "            converged = False\n",
    "    if converged:\n",
    "        print(\"Perceptron algorithm: iterations until convergence: \", iters)\n",
    "    else:\n",
    "        print(\"Perceptron algorithm: did not converge within the specified number of iterations\")\n",
    "    return alpha,b,converged\n",
    "\n",
    "def gridspace(x,sv_x,sv_y,alpha,b,kernel_type,s_value):\n",
    "        y_predict = np.zeros(x.shape[0])\n",
    "        for i in range(x.shape[0]):\n",
    "            s = 0\n",
    "            for a, c, z in zip(alpha, sv_y, sv_x):\n",
    "                if kernel_type == 'rbf':\n",
    "                    s += a * c* np.exp(-np.linalg.norm(x[i]-z)**2 / (s_value**2))+b\n",
    "                if kernel_type == 'quadratic':\n",
    "                     s+= a * c *(1 + np.dot(x[i], z))+b\n",
    "            y_predict[i] = np.sign(s)\n",
    "        \n",
    "        return y_predict       \n",
    "\n",
    "def learn_and_display_Perceptron_1(datafile, kernel_type='rbf', s_value=1.0):\n",
    "    data = np.loadtxt(datafile)\n",
    "    n,d = data.shape\n",
    "    # Create training set x and labels y\n",
    "    x = data[:,0:2]\n",
    "    y = data[:,2]\n",
    "    # Now train a perceptron for at most 100 iterations\n",
    "    alpha,b,converged = train_perceptron(x,y,s_value,kernel_type,100)\n",
    "    #Support vectors\n",
    "    sv = alpha > 1e-5\n",
    "    ind = np.arange(len(alpha))[sv]\n",
    "    alpha = alpha[sv]\n",
    "    sv_x = x[sv]\n",
    "    notsv = np.logical_not(sv)\n",
    "    sv_y = y[sv]\n",
    "    # Determine the x1- and x2- limits of the plot\n",
    "    x1min = min(x[:,0]) - 1\n",
    "    x1max = max(x[:,0]) + 1\n",
    "    x2min = min(x[:,1]) - 1\n",
    "    x2max = max(x[:,1]) + 1\n",
    "    plt.xlim(x1min,x1max)\n",
    "    plt.ylim(x2min,x2max)\n",
    "    # Plot the data points\n",
    "    plt.plot(x[(y==1)*notsv,0], x[(y==1)*notsv,1], 'ro')\n",
    "    plt.plot(x[(y==1)*sv,0], x[(y==1)*sv,1], 'ro', markersize=10)\n",
    "    plt.plot(x[(y==-1)*notsv,0], x[(y==-1)*notsv,1], 'k^')\n",
    "    plt.plot(x[(y==-1)*sv,0], x[(y==-1)*sv,1], 'k^', markersize=10)\n",
    "    # Construct a grid of points at which to evaluate the classifier\n",
    "    if converged:\n",
    "        grid_spacing = 0.05\n",
    "        xx1, xx2 = np.meshgrid(np.arange(x1min, x1max, grid_spacing), np.arange(x2min, x2max, grid_spacing))\n",
    "        grid = np.c_[xx1.ravel(), xx2.ravel()]   \n",
    "        Z = gridspace(grid,sv_x,sv_y,alpha,b,kernel_type,s_value)\n",
    "        # Show the classifier's boundary using a color plot\n",
    "        Z = Z.reshape(xx1.shape)\n",
    "        plt.pcolormesh(xx1, xx2, Z, cmap=plt.cm.PRGn, vmin=-2, vmax=2)\n",
    "    plt.show()"
   ]
  },
  {
   "cell_type": "markdown",
   "metadata": {},
   "source": [
    "<font color=\"magenta\">Experiment with your routine, on the same five data sets.</font>"
   ]
  },
  {
   "cell_type": "code",
   "execution_count": 9,
   "metadata": {},
   "outputs": [
    {
     "name": "stdout",
     "output_type": "stream",
     "text": [
      "Perceptron algorithm: iterations until convergence:  3\n"
     ]
    },
    {
     "data": {
      "image/png": "[encoded data removed]",
      "text/plain": [
       "<Figure size 432x288 with 1 Axes>"
      ]
     },
     "metadata": {},
     "output_type": "display_data"
    }
   ],
   "source": [
    "learn_and_display_Perceptron_1('data1.txt')"
   ]
  },
  {
   "cell_type": "code",
   "execution_count": 10,
   "metadata": {},
   "outputs": [
    {
     "name": "stdout",
     "output_type": "stream",
     "text": [
      "Perceptron algorithm: did not converge within the specified number of iterations\n"
     ]
    },
    {
     "data": {
      "image/png": "[encoded data removed]",
      "text/plain": [
       "<Figure size 432x288 with 1 Axes>"
      ]
     },
     "metadata": {},
     "output_type": "display_data"
    }
   ],
   "source": [
    "learn_and_display_Perceptron_1('data2.txt',kernel_type='quadratic')"
   ]
  },
  {
   "cell_type": "markdown",
   "metadata": {},
   "source": [
    "#### Method 2 : Similar to earlier perceptron code examples"
   ]
  },
  {
   "cell_type": "code",
   "execution_count": 11,
   "metadata": {},
   "outputs": [],
   "source": [
    "def ypredict(x,y,alpha,b,kernel_type,s_value):\n",
    "        y_predict = np.zeros(x.shape[0])\n",
    "        for i in range(x.shape[0]):\n",
    "            s = 0\n",
    "            for a, c, z in zip(alpha, y, x):\n",
    "                if kernel_type == 'rbf':\n",
    "                    s += a * c* np.exp(-np.linalg.norm(x[i]-z)**2 / (s_value**2)) +b \n",
    "                if kernel_type == 'quadratic':\n",
    "                    s += a * c* (1 + np.dot(x[i], z)) +b\n",
    "            y_predict[i] = np.sign(s)\n",
    "        \n",
    "        return y_predict \n",
    "\n",
    "def train_perceptron(x,y,s_value,kernel_type,n_iters=100):\n",
    "    n,d = x.shape\n",
    "    alpha = np.zeros((n,))\n",
    "    b=0\n",
    "    done = False\n",
    "    converged = True\n",
    "    iters = 0\n",
    "    np.random.seed(None)\n",
    "    while not(done):\n",
    "        done = True\n",
    "        I = np.random.permutation(n)\n",
    "        for p in I:\n",
    "            if  ypredict(x,y,alpha,b,kernel_type,s_value)[p] != y[p]:\n",
    "                alpha[p] = alpha[p] + 1.0\n",
    "                b = b + y[p]\n",
    "                done = False\n",
    "        iters = iters + 1\n",
    "        if iters > n_iters:\n",
    "            done = True\n",
    "            converged = False\n",
    "    if converged:\n",
    "        print(\"Perceptron algorithm: iterations until convergence: \", iters)\n",
    "    else:\n",
    "        print(\"Perceptron algorithm: did not converge within the specified number of iterations\")\n",
    "    return alpha, b,converged      \n",
    "\n",
    "def gridspace(x,sv_x,sv_y,alpha,b,kernel_type,s_value):\n",
    "        y_predict = np.zeros(x.shape[0])\n",
    "        for i in range(x.shape[0]):\n",
    "            s = 0\n",
    "            for a, c, z in zip(alpha, sv_y, sv_x):\n",
    "                if kernel_type == 'rbf':\n",
    "                    s += a * c* np.exp(-np.linalg.norm(x[i]-z)**2 / (s_value**2))+b\n",
    "                if kernel_type == 'quadratic':\n",
    "                     s+= a * c *(1 + np.dot(x[i], z))+b\n",
    "            y_predict[i] = np.sign(s)\n",
    "        \n",
    "        return y_predict\n",
    "\n",
    "def learn_and_display_Perceptron_2(datafile, kernel_type='rbf', s_value=1.0):\n",
    "    data = np.loadtxt(datafile)\n",
    "    n,d = data.shape\n",
    "    # Create training set x and labels y\n",
    "    x = data[:,0:2]\n",
    "    y = data[:,2]\n",
    "    # Now train a perceptron for at most 100 iterations\n",
    "    alpha,b,converged = train_perceptron(x,y,s_value,kernel_type,100)\n",
    "    #Support vectors\n",
    "    sv = alpha > 1e-5\n",
    "    ind = np.arange(len(alpha))[sv]\n",
    "    alpha = alpha[sv]\n",
    "    sv_x = x[sv]\n",
    "    notsv = np.logical_not(sv)\n",
    "    sv_y = y[sv]\n",
    "    # Determine the x1- and x2- limits of the plot\n",
    "    x1min = min(x[:,0]) - 1\n",
    "    x1max = max(x[:,0]) + 1\n",
    "    x2min = min(x[:,1]) - 1\n",
    "    x2max = max(x[:,1]) + 1\n",
    "    plt.xlim(x1min,x1max)\n",
    "    plt.ylim(x2min,x2max)\n",
    "    # Plot the data points\n",
    "    plt.plot(x[(y==1)*notsv,0], x[(y==1)*notsv,1], 'ro')\n",
    "    plt.plot(x[(y==1)*sv,0], x[(y==1)*sv,1], 'ro', markersize=10)\n",
    "    plt.plot(x[(y==-1)*notsv,0], x[(y==-1)*notsv,1], 'k^')\n",
    "    plt.plot(x[(y==-1)*sv,0], x[(y==-1)*sv,1], 'k^', markersize=10)\n",
    "    # Construct a grid of points at which to evaluate the classifier\n",
    "    if converged:\n",
    "        grid_spacing = 0.05\n",
    "        xx1, xx2 = np.meshgrid(np.arange(x1min, x1max, grid_spacing), np.arange(x2min, x2max, grid_spacing))\n",
    "        grid = np.c_[xx1.ravel(), xx2.ravel()]   \n",
    "        Z = gridspace(grid,sv_x,sv_y,alpha,b,kernel_type,s_value)\n",
    "        # Show the classifier's boundary using a color plot\n",
    "        Z = Z.reshape(xx1.shape)\n",
    "        plt.pcolormesh(xx1, xx2, Z, cmap=plt.cm.PRGn, vmin=-2, vmax=2)\n",
    "    plt.show()"
   ]
  },
  {
   "cell_type": "code",
   "execution_count": 12,
   "metadata": {},
   "outputs": [
    {
     "name": "stdout",
     "output_type": "stream",
     "text": [
      "Perceptron algorithm: iterations until convergence:  4\n"
     ]
    },
    {
     "data": {
      "image/png": "[encoded data removed]",
      "text/plain": [
       "<Figure size 432x288 with 1 Axes>"
      ]
     },
     "metadata": {},
     "output_type": "display_data"
    }
   ],
   "source": [
    "learn_and_display_Perceptron_2('data3.txt')"
   ]
  },
  {
   "cell_type": "code",
   "execution_count": 13,
   "metadata": {},
   "outputs": [
    {
     "name": "stdout",
     "output_type": "stream",
     "text": [
      "Perceptron algorithm: did not converge within the specified number of iterations\n"
     ]
    },
    {
     "data": {
      "image/png": "[encoded data removed]",
      "text/plain": [
       "<Figure size 432x288 with 1 Axes>"
      ]
     },
     "metadata": {},
     "output_type": "display_data"
    }
   ],
   "source": [
    "learn_and_display_Perceptron_2('data4.txt',kernel_type='quadratic')"
   ]
  },
  {
   "cell_type": "code",
   "execution_count": 14,
   "metadata": {},
   "outputs": [
    {
     "name": "stdout",
     "output_type": "stream",
     "text": [
      "Perceptron algorithm: iterations until convergence:  2\n"
     ]
    },
    {
     "data": {
      "image/png": "[encoded data removed]",
      "text/plain": [
       "<Figure size 432x288 with 1 Axes>"
      ]
     },
     "metadata": {},
     "output_type": "display_data"
    }
   ],
   "source": [
    "learn_and_display_Perceptron_2('data5.txt')"
   ]
  },
  {
   "cell_type": "markdown",
   "metadata": {},
   "source": [
    "#### Datasets not converging for quadratic kernels, only for rbf kernels."
   ]
  },
  {
   "cell_type": "code",
   "execution_count": null,
   "metadata": {},
   "outputs": [],
   "source": []
  }
 ],
 "metadata": {
  "kernelspec": {
   "display_name": "Python 3",
   "language": "python",
   "name": "python3"
  },
  "language_info": {
   "codemirror_mode": {
    "name": "ipython",
    "version": 3
   },
   "file_extension": ".py",
   "mimetype": "text/x-python",
   "name": "python",
   "nbconvert_exporter": "python",
   "pygments_lexer": "ipython3",
   "version": "3.6.5"
  },
  "toc": {
   "colors": {
    "hover_highlight": "#DAA520",
    "navigate_num": "#000000",
    "navigate_text": "#333333",
    "running_highlight": "#FF0000",
    "selected_highlight": "#FFD700",
    "sidebar_border": "#EEEEEE",
    "wrapper_background": "#FFFFFF"
   },
   "moveMenuLeft": true,
   "nav_menu": {
    "height": "117px",
    "width": "252px"
   },
   "navigate_menu": true,
   "number_sections": false,
   "sideBar": true,
   "threshold": 4,
   "toc_cell": false,
   "toc_section_display": "block",
   "toc_window_display": false,
   "widenNotebook": false
  }
 },
 "nbformat": 4,
 "nbformat_minor": 1
}
