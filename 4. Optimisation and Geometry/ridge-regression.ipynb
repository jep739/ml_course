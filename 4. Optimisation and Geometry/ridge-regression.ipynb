{
 "cells": [
  {
   "cell_type": "markdown",
   "metadata": {},
   "source": [
    "# Gradient-based solver for ridge regression"
   ]
  },
  {
   "cell_type": "markdown",
   "metadata": {},
   "source": [
    "In this notebook, you will create a **gradient descent** solver for **ridge regression** and then compare it to the built-in solver in `sklearn.linear_model`."
   ]
  },
  {
   "cell_type": "markdown",
   "metadata": {},
   "source": [
    "## 1. Set up notebook and create data set"
   ]
  },
  {
   "cell_type": "markdown",
   "metadata": {},
   "source": [
    "After loading in some standard packages, we create a synthetic data set consisting of data points `(x,y)`:\n",
    "* `x`: 100-dimensional vector whose coordinates are independent draws from a standard normal (Gaussian) distribution\n",
    "* `y`: response value given by `y = wx + e` where `w` is a target regression function and `e` is Gaussian noise\n",
    "\n",
    "We will fix `w` to be the 100-dimensional vector whose first ten coordinates are exactly 1.0, and whose remaining coordinates are zero. Thus only the first ten coordinates of `x` are relevant to the regression task."
   ]
  },
  {
   "cell_type": "code",
   "execution_count": 1,
   "metadata": {},
   "outputs": [],
   "source": [
    "%matplotlib inline\n",
    "import numpy as np\n",
    "import matplotlib\n",
    "import matplotlib.pyplot as plt\n",
    "from sklearn import linear_model\n",
    "from sklearn.metrics import mean_squared_error\n",
    "matplotlib.rc('xtick', labelsize=14) \n",
    "matplotlib.rc('ytick', labelsize=14)"
   ]
  },
  {
   "cell_type": "markdown",
   "metadata": {},
   "source": [
    "The following procedure, **generate_data**, creates a data set of a specified number of points. It is invoked as follows:\n",
    "* `trainx, trainy = generate_data(n)`\n",
    "\n",
    "Here:\n",
    "* `n` is the target number of points\n",
    "* `trainx`: `nx100` array of data points\n",
    "* `trainy`: array of `n` response values"
   ]
  },
  {
   "cell_type": "code",
   "execution_count": 2,
   "metadata": {},
   "outputs": [],
   "source": [
    "def generate_data(n):\n",
    "    d = 100\n",
    "    w = np.zeros(d)\n",
    "    for i in range(0,10):\n",
    "        w[i] = 1.0\n",
    "    #\n",
    "    trainx = np.random.normal(size=(n,d))\n",
    "    e = np.random.normal(size=(n))\n",
    "    trainy = np.dot(trainx, w) + e\n",
    "    #\n",
    "    return trainx, trainy"
   ]
  },
  {
   "cell_type": "markdown",
   "metadata": {},
   "source": [
    "## 2. Gradient descent solver for ridge regression"
   ]
  },
  {
   "cell_type": "markdown",
   "metadata": {},
   "source": [
    "<font color=\"magenta\">**For you to do:**</font> Define a procedure, **ridge_regression_GD**, that uses gradient descent to solve the ridge regression problem. It is invoked as follows:\n",
    "\n",
    "* `w,b,losses = ridge_regression_GD(x,y,C)`\n",
    "\n",
    "Here, the input consists of:\n",
    "* training data `x,y`, where `x` and `y` are numpy arrays of dimension `n`-by-`d` and `n`, respectively (if there are `n` training points)\n",
    "* regularization constant `C`\n",
    "\n",
    "The function should find the `d`-dimensional vector `w` and offset `b` that minimize the ridge regression loss function (with regularization constant `C`), and return:\n",
    "* `w` and `b`\n",
    "* `losses`, an array containing the ridge regression loss at each iteration\n",
    "\n",
    "<font color=\"magenta\">Advice:</font> First figure out the derivative, which has a relatively simple form. Next, when implementing gradient descent, think carefully about two issues.\n",
    "\n",
    "1. What is the step size?\n",
    "2. When has the procedure converged?\n",
    "\n",
    "Take the time to experiment with different ways of handling these."
   ]
  },
  {
   "cell_type": "code",
   "execution_count": 3,
   "metadata": {},
   "outputs": [],
   "source": [
    "def ridge_regression_GD(x,y,C):\n",
    "    #defining the w,b and loss function before using gradient descent\n",
    "    #x=np.matrix(x)\n",
    "    #y=np.matrix(y)\n",
    "    w = np.zeros(100)\n",
    "    for i in range(0,10):\n",
    "        w[i] = 1.0\n",
    "    n=np.shape(x)[0]\n",
    "    b=np.zeros(n)\n",
    "    #loss_func = np.sum(np.square(y-np.dot(x,w)-b)) + C*np.dot(w,w)\n",
    "    print(\"x:\",np.shape(x),\"y:\",np.shape(y),\"w:\",np.shape(w),\"b:\",np.shape(b))\n",
    "    #calculating the w,b and ridge loss per iter using gradient descent\n",
    "    eta=0.000001 #tuned\n",
    "    total_iter=1000\n",
    "    losses=np.zeros(total_iter)\n",
    "    for iter in range(total_iter):\n",
    "        b = np.dot(x,w)-y \n",
    "        dL = 4*np.sum(np.dot(x.T, b))+ 2*C*w #derivative of loss func and put the value of b\n",
    "        w = w - eta*dL \n",
    "        losses[iter]= eta * np.dot(dL,dL) #dot product of derivative of loss func\n",
    "        \n",
    "    return w, b, losses"
   ]
  },
  {
   "cell_type": "markdown",
   "metadata": {},
   "source": [
    "Let's try it out and print a graph of the loss values during the optimization process."
   ]
  },
  {
   "cell_type": "code",
   "execution_count": 4,
   "metadata": {},
   "outputs": [
    {
     "name": "stdout",
     "output_type": "stream",
     "text": [
      "x: (200, 100) y: (200,) w: (100,) b: (200,)\n"
     ]
    },
    {
     "data": {
      "image/png": "[encoded data removed]",
      "text/plain": [
       "<Figure size 432x288 with 1 Axes>"
      ]
     },
     "metadata": {},
     "output_type": "display_data"
    }
   ],
   "source": [
    "# Generate 200 data points\n",
    "n = 200\n",
    "x,y = generate_data(n)\n",
    "# Set regularization constant\n",
    "C = 1.0\n",
    "# Run gradient descent solver\n",
    "w, b, losses = ridge_regression_GD(x,y,C)\n",
    "# Plot the losses\n",
    "plt.plot(losses,'r')\n",
    "plt.xlabel('Iterations', fontsize=14)\n",
    "plt.ylabel('Loss', fontsize=14)\n",
    "plt.show()"
   ]
  },
  {
   "cell_type": "markdown",
   "metadata": {},
   "source": [
    "<font color=\"magenta\">**Something to think about**</font>\n",
    "\n",
    "1. In setting the step size, does it work to use a fixed schedule 1/t? Why or why not? --> Not really\n",
    "\n",
    "2. Can you set up the gradient descent procedure in such a way that on each iteration, the loss monotonically decreases? -->Yes\n"
   ]
  },
  {
   "cell_type": "markdown",
   "metadata": {},
   "source": [
    "## 3. Evaluate the gradient descent solver"
   ]
  },
  {
   "cell_type": "markdown",
   "metadata": {},
   "source": [
    "Now let's compare the regressor found by your gradient descent procedure to that returned by the built-in ridge regression solver in `sklearn`. We will compare them in two ways:\n",
    "* Their MSE values\n",
    "* The distance between the corresponding `w`-vectors\n",
    "\n",
    "The latter should be smaller than 10^{-4}.\n"
   ]
  },
  {
   "cell_type": "code",
   "execution_count": 5,
   "metadata": {},
   "outputs": [],
   "source": [
    "def compute_mse(w,b,x,y):\n",
    "    residuals = y - np.dot(x, w) - b\n",
    "    return np.dot(residuals,residuals)/n"
   ]
  },
  {
   "cell_type": "code",
   "execution_count": 6,
   "metadata": {},
   "outputs": [
    {
     "name": "stdout",
     "output_type": "stream",
     "text": [
      "x: (200, 100) y: (200,) w: (100,) b: (200,)\n",
      "MSE of gradient descent solver:  3.1601091408994115\n",
      "MSE of built-in solver:  0.4611629880969923\n",
      "Distance between w-coefficients:  0.8162241098717457\n"
     ]
    }
   ],
   "source": [
    "# Generate 200 data points\n",
    "n = 200\n",
    "x,y = generate_data(n)\n",
    "# Set regularization constant\n",
    "C = 10.0\n",
    "# Run gradient descent solver and compute its MSE\n",
    "w, b, losses = ridge_regression_GD(x,y,C)\n",
    "# Use built-in routine for ridge regression and compute MSE\n",
    "regr = linear_model.Ridge(alpha=C)\n",
    "regr.fit(x, y)\n",
    "# Print MSE values and L2 distance between the regression functions\n",
    "print(\"MSE of gradient descent solver: \", compute_mse(w,b,x,y))\n",
    "print(\"MSE of built-in solver: \", mean_squared_error(regr.predict(x), y))\n",
    "print(\"Distance between w-coefficients: \", np.linalg.norm(w-regr.coef_))"
   ]
  },
  {
   "cell_type": "markdown",
   "metadata": {},
   "source": [
    "<font color=\"magenta\">**Something to think about**</font>\n",
    "\n",
    "The data was originally generated using a linear function in which only ten of the 100 features (the first ten) were relevant. Does the vector `w` returned by ridge regression correctly identify the relevant features?"
   ]
  },
  {
   "cell_type": "markdown",
   "metadata": {
    "collapsed": true
   },
   "source": [
    "Yes, in the sense that the 10 highest-valued coordinates were the relevant features.\n",
    "In general, we should not expect ridge regression to yield sparse solutions."
   ]
  },
  {
   "cell_type": "code",
   "execution_count": null,
   "metadata": {},
   "outputs": [],
   "source": []
  }
 ],
 "metadata": {
  "kernelspec": {
   "display_name": "Python 3",
   "language": "python",
   "name": "python3"
  },
  "language_info": {
   "codemirror_mode": {
    "name": "ipython",
    "version": 3
   },
   "file_extension": ".py",
   "mimetype": "text/x-python",
   "name": "python",
   "nbconvert_exporter": "python",
   "pygments_lexer": "ipython3",
   "version": "3.6.5"
  },
  "toc": {
   "colors": {
    "hover_highlight": "#DAA520",
    "navigate_num": "#000000",
    "navigate_text": "#333333",
    "running_highlight": "#FF0000",
    "selected_highlight": "#FFD700",
    "sidebar_border": "#EEEEEE",
    "wrapper_background": "#FFFFFF"
   },
   "moveMenuLeft": true,
   "nav_menu": {
    "height": "12px",
    "width": "252px"
   },
   "navigate_menu": true,
   "number_sections": false,
   "sideBar": true,
   "threshold": 4,
   "toc_cell": false,
   "toc_section_display": "block",
   "toc_window_display": false,
   "widenNotebook": false
  }
 },
 "nbformat": 4,
 "nbformat_minor": 2
}
